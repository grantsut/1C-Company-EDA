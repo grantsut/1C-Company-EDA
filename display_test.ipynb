{
 "cells": [
  {
   "cell_type": "code",
   "execution_count": 3,
   "id": "07c08781-d89a-4119-a20a-0fd8dba3cabf",
   "metadata": {},
   "outputs": [
    {
     "data": {
      "text/html": [
       "<script>\n",
       "  function code_toggle() {\n",
       "    if (code_shown){\n",
       "      $('div.input').hide('500');\n",
       "      $('#toggleButton').val('Show Code')\n",
       "    } else {\n",
       "      $('div.input').show('500');\n",
       "      $('#toggleButton').val('Hide Code')\n",
       "    }\n",
       "    code_shown = !code_shown\n",
       "  }\n",
       "\n",
       "  $( document ).ready(function(){\n",
       "    code_shown=false;\n",
       "    $('div.input').hide()\n",
       "  });\n",
       "</script>\n",
       "<form action=\"javascript:code_toggle()\"><input type=\"submit\" id=\"toggleButton\" value=\"Show Code\"></form>"
      ],
      "text/plain": [
       "<IPython.core.display.HTML object>"
      ]
     },
     "execution_count": 3,
     "metadata": {},
     "output_type": "execute_result"
    }
   ],
   "source": [
    "from IPython.display import HTML\n",
    "\n",
    "HTML('''<script>\n",
    "  function code_toggle() {\n",
    "    if (code_shown){\n",
    "      $('div.input').hide('500');\n",
    "      $('#toggleButton').val('Show Code')\n",
    "    } else {\n",
    "      $('div.input').show('500');\n",
    "      $('#toggleButton').val('Hide Code')\n",
    "    }\n",
    "    code_shown = !code_shown\n",
    "  }\n",
    "\n",
    "  $( document ).ready(function(){\n",
    "    code_shown=false;\n",
    "    $('div.input').hide()\n",
    "  });\n",
    "</script>\n",
    "<form action=\"javascript:code_toggle()\"><input type=\"submit\" id=\"toggleButton\" value=\"Show Code\"></form>''')"
   ]
  },
  {
   "cell_type": "code",
   "execution_count": 9,
   "id": "1cbc25c2-6ed1-4456-8180-c57f35c5155f",
   "metadata": {},
   "outputs": [],
   "source": []
  },
  {
   "cell_type": "markdown",
   "id": "4a9b7e18-c581-4d54-8111-5361db1ad2fb",
   "metadata": {},
   "source": [
    "Here is some regular markdown"
   ]
  },
  {
   "cell_type": "code",
   "execution_count": 7,
   "id": "4c4508c4-f040-4ee3-8a09-4e318eab6d8e",
   "metadata": {
    "tags": [
     "remove_input"
    ]
   },
   "outputs": [
    {
     "name": "stdout",
     "output_type": "stream",
     "text": [
      "here is some code\n"
     ]
    },
    {
     "data": {
      "text/html": [
       "<script>\n",
       "            function code_toggle_645094532445142579() {$('div.cell.code_cell.rendered.selected').find('div.input').toggle(); }\n",
       "            \n",
       "        </script>\n",
       "        <a href=\"javascript:code_toggle_645094532445142579()\">Code show/hide</a>\n",
       "    "
      ],
      "text/plain": [
       "<IPython.core.display.HTML object>"
      ]
     },
     "execution_count": 7,
     "metadata": {},
     "output_type": "execute_result"
    }
   ],
   "source": [
    "print(\"here is some code\")\n",
    "hide_toggle()"
   ]
  },
  {
   "cell_type": "markdown",
   "id": "6c61f53b-dd22-4bfd-8f98-54de49f5411e",
   "metadata": {},
   "source": [
    "__and here is some more markdown__"
   ]
  },
  {
   "cell_type": "markdown",
   "id": "ae8c925d-6103-49aa-8240-8e62bd8dd198",
   "metadata": {},
   "source": [
    "# <p style=\"text-align:center\"> And here is some centered text </p>"
   ]
  },
  {
   "cell_type": "code",
   "execution_count": null,
   "id": "9efe47e9-a8ef-4f4d-a910-1182b15fbe6b",
   "metadata": {},
   "outputs": [],
   "source": []
  }
 ],
 "metadata": {
  "celltoolbar": "Tags",
  "kernelspec": {
   "display_name": "Python 3 (ipykernel)",
   "language": "python",
   "name": "python3"
  },
  "language_info": {
   "codemirror_mode": {
    "name": "ipython",
    "version": 3
   },
   "file_extension": ".py",
   "mimetype": "text/x-python",
   "name": "python",
   "nbconvert_exporter": "python",
   "pygments_lexer": "ipython3",
   "version": "3.9.7"
  },
  "toc-autonumbering": false
 },
 "nbformat": 4,
 "nbformat_minor": 5
}
