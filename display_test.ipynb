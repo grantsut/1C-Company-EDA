{
 "cells": [
  {
   "cell_type": "code",
   "execution_count": 10,
   "id": "07c08781-d89a-4119-a20a-0fd8dba3cabf",
   "metadata": {},
   "outputs": [
    {
     "data": {
      "text/html": [
       "<script>\n",
       "    function luc21893_refresh_cell(cell) {\n",
       "        if( cell.luc21893 ) return;\n",
       "        cell.luc21893 = true;\n",
       "        console.debug('New code cell found...' );\n",
       "        \n",
       "        var div = document.createElement('DIV');            \n",
       "        cell.parentNode.insertBefore( div, cell.nextSibling );\n",
       "        div.style.textAlign = 'right';\n",
       "        var a = document.createElement('A');\n",
       "        div.appendChild(a);\n",
       "        a.href='#'\n",
       "        a.luc21893 = cell;\n",
       "        a.setAttribute( 'onclick', \"luc21893_toggle(this); return false;\" );\n",
       "\n",
       "        cell.style.visibility='hidden';\n",
       "        cell.style.position='absolute';\n",
       "        a.innerHTML = '[show code]';        \n",
       "                \n",
       "    }\n",
       "    function luc21893_refresh() {                \n",
       "        if( document.querySelector('.code_cell .input') == null ) {            \n",
       "            // it apeears that I am in a exported html\n",
       "            // hide this code\n",
       "            var codeCells = document.querySelectorAll('.jp-InputArea')\n",
       "            codeCells[0].style.visibility = 'hidden';\n",
       "            codeCells[0].style.position = 'absolute';                        \n",
       "            for( var i = 1; i < codeCells.length; i++ ) {\n",
       "                luc21893_refresh_cell(codeCells[i].parentNode)\n",
       "            }\n",
       "            window.onload = luc21893_refresh;\n",
       "        }                 \n",
       "        else {\n",
       "            // it apperas that I am in a jupyter editor\n",
       "            var codeCells = document.querySelectorAll('.code_cell .input')\n",
       "            for( var i = 0; i < codeCells.length; i++ ) {\n",
       "                luc21893_refresh_cell(codeCells[i])\n",
       "            }            \n",
       "            window.setTimeout( luc21893_refresh, 1000 )\n",
       "        }        \n",
       "    }\n",
       "    \n",
       "    function luc21893_toggle(a) {\n",
       "        if( a.luc21893.style.visibility=='hidden' ) {\n",
       "            a.luc21893.style.visibility='visible';        \n",
       "            a.luc21893.style.position='';\n",
       "            a.innerHTML = '[hide code]';\n",
       "        }\n",
       "        else {\n",
       "            a.luc21893.style.visibility='hidden';        \n",
       "            a.luc21893.style.position='absolute';\n",
       "            a.innerHTML = '[show code]';\n",
       "        }\n",
       "    }\n",
       "    \n",
       "    luc21893_refresh()\n",
       "</script>\n"
      ],
      "text/plain": [
       "<IPython.core.display.HTML object>"
      ]
     },
     "metadata": {},
     "output_type": "display_data"
    }
   ],
   "source": [
    "%%HTML \n",
    "<script>\n",
    "    function luc21893_refresh_cell(cell) {\n",
    "        if( cell.luc21893 ) return;\n",
    "        cell.luc21893 = true;\n",
    "        console.debug('New code cell found...' );\n",
    "        \n",
    "        var div = document.createElement('DIV');            \n",
    "        cell.parentNode.insertBefore( div, cell.nextSibling );\n",
    "        div.style.textAlign = 'right';\n",
    "        var a = document.createElement('A');\n",
    "        div.appendChild(a);\n",
    "        a.href='#'\n",
    "        a.luc21893 = cell;\n",
    "        a.setAttribute( 'onclick', \"luc21893_toggle(this); return false;\" );\n",
    "\n",
    "        cell.style.visibility='hidden';\n",
    "        cell.style.position='absolute';\n",
    "        a.innerHTML = '[show code]';        \n",
    "                \n",
    "    }\n",
    "    function luc21893_refresh() {                \n",
    "        if( document.querySelector('.code_cell .input') == null ) {            \n",
    "            // it apeears that I am in a exported html\n",
    "            // hide this code\n",
    "            var codeCells = document.querySelectorAll('.jp-InputArea')\n",
    "            codeCells[0].style.visibility = 'hidden';\n",
    "            codeCells[0].style.position = 'absolute';                        \n",
    "            for( var i = 1; i < codeCells.length; i++ ) {\n",
    "                luc21893_refresh_cell(codeCells[i].parentNode)\n",
    "            }\n",
    "            window.onload = luc21893_refresh;\n",
    "        }                 \n",
    "        else {\n",
    "            // it apperas that I am in a jupyter editor\n",
    "            var codeCells = document.querySelectorAll('.code_cell .input')\n",
    "            for( var i = 0; i < codeCells.length; i++ ) {\n",
    "                luc21893_refresh_cell(codeCells[i])\n",
    "            }            \n",
    "            window.setTimeout( luc21893_refresh, 1000 )\n",
    "        }        \n",
    "    }\n",
    "    \n",
    "    function luc21893_toggle(a) {\n",
    "        if( a.luc21893.style.visibility=='hidden' ) {\n",
    "            a.luc21893.style.visibility='visible';        \n",
    "            a.luc21893.style.position='';\n",
    "            a.innerHTML = '[hide code]';\n",
    "        }\n",
    "        else {\n",
    "            a.luc21893.style.visibility='hidden';        \n",
    "            a.luc21893.style.position='absolute';\n",
    "            a.innerHTML = '[show code]';\n",
    "        }\n",
    "    }\n",
    "    \n",
    "    luc21893_refresh()\n",
    "</script>"
   ]
  },
  {
   "cell_type": "code",
   "execution_count": 9,
   "id": "1cbc25c2-6ed1-4456-8180-c57f35c5155f",
   "metadata": {},
   "outputs": [],
   "source": [
    "import random\n",
    "\n",
    "from IPython.display import HTML\n",
    "\n",
    "\n",
    "def hide_toggle(for_next=False):\n",
    "    this_cell = \"\"\"$('div.cell.code_cell.rendered.selected')\"\"\"\n",
    "    next_cell = this_cell + \".next()\"\n",
    "    toggle_text = \"Code show/hide\"  # text shown on toggle link\n",
    "    target_cell = this_cell\n",
    "    js_hide_current = \"\"\n",
    "\n",
    "    if for_next:\n",
    "        target_cell = next_cell\n",
    "        toggle_text += \" next cell\"\n",
    "        js_hide_current = this_cell + '.find(\"div.input\").hide();'\n",
    "    js_f_name = \"code_toggle_{}\".format(str(random.randint(1, 2 ** 64)))\n",
    "\n",
    "    html = \"\"\"<script>\n",
    "            function {f_name}() {{{cell_selector}.find('div.input').toggle(); }}\n",
    "            {js_hide_current}\n",
    "        </script>\n",
    "        <a href=\"javascript:{f_name}()\">{toggle_text}</a>\n",
    "    \"\"\".format(\n",
    "        f_name=js_f_name,\n",
    "        cell_selector=target_cell,\n",
    "        js_hide_current=js_hide_current,\n",
    "        toggle_text=toggle_text,\n",
    "    )\n",
    "    return HTML(html)"
   ]
  },
  {
   "cell_type": "markdown",
   "id": "4a9b7e18-c581-4d54-8111-5361db1ad2fb",
   "metadata": {},
   "source": [
    "Here is some regular markdown"
   ]
  },
  {
   "cell_type": "code",
   "execution_count": 7,
   "id": "4c4508c4-f040-4ee3-8a09-4e318eab6d8e",
   "metadata": {
    "tags": [
     "remove_input"
    ]
   },
   "outputs": [
    {
     "name": "stdout",
     "output_type": "stream",
     "text": [
      "here is some code\n"
     ]
    },
    {
     "data": {
      "text/html": [
       "<script>\n",
       "            function code_toggle_645094532445142579() {$('div.cell.code_cell.rendered.selected').find('div.input').toggle(); }\n",
       "            \n",
       "        </script>\n",
       "        <a href=\"javascript:code_toggle_645094532445142579()\">Code show/hide</a>\n",
       "    "
      ],
      "text/plain": [
       "<IPython.core.display.HTML object>"
      ]
     },
     "execution_count": 7,
     "metadata": {},
     "output_type": "execute_result"
    }
   ],
   "source": [
    "print(\"here is some code\")\n",
    "hide_toggle()"
   ]
  },
  {
   "cell_type": "markdown",
   "id": "6c61f53b-dd22-4bfd-8f98-54de49f5411e",
   "metadata": {},
   "source": [
    "__and here is some more markdown__"
   ]
  },
  {
   "cell_type": "markdown",
   "id": "ae8c925d-6103-49aa-8240-8e62bd8dd198",
   "metadata": {},
   "source": [
    "# <p style=\"text-align:center\"> And here is some centered text </p>"
   ]
  },
  {
   "cell_type": "code",
   "execution_count": null,
   "id": "9efe47e9-a8ef-4f4d-a910-1182b15fbe6b",
   "metadata": {},
   "outputs": [],
   "source": []
  }
 ],
 "metadata": {
  "celltoolbar": "Tags",
  "kernelspec": {
   "display_name": "Python 3 (ipykernel)",
   "language": "python",
   "name": "python3"
  },
  "language_info": {
   "codemirror_mode": {
    "name": "ipython",
    "version": 3
   },
   "file_extension": ".py",
   "mimetype": "text/x-python",
   "name": "python",
   "nbconvert_exporter": "python",
   "pygments_lexer": "ipython3",
   "version": "3.9.7"
  },
  "toc-autonumbering": false
 },
 "nbformat": 4,
 "nbformat_minor": 5
}
