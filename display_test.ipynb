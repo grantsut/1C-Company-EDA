{
 "cells": [
  {
   "cell_type": "markdown",
   "id": "4a9b7e18-c581-4d54-8111-5361db1ad2fb",
   "metadata": {},
   "source": [
    "Here is some regular markdown"
   ]
  },
  {
   "cell_type": "code",
   "execution_count": 1,
   "id": "4c4508c4-f040-4ee3-8a09-4e318eab6d8e",
   "metadata": {},
   "outputs": [
    {
     "name": "stdout",
     "output_type": "stream",
     "text": [
      "here is some code\n"
     ]
    }
   ],
   "source": [
    "print(\"here is some code\")"
   ]
  },
  {
   "cell_type": "markdown",
   "id": "6c61f53b-dd22-4bfd-8f98-54de49f5411e",
   "metadata": {},
   "source": [
    "__and here is some more markdown__"
   ]
  },
  {
   "cell_type": "code",
   "execution_count": null,
   "id": "4ec345e5-699c-49a0-8125-774981f8a8d1",
   "metadata": {},
   "outputs": [],
   "source": []
  }
 ],
 "metadata": {
  "kernelspec": {
   "display_name": "Python 3 (ipykernel)",
   "language": "python",
   "name": "python3"
  },
  "language_info": {
   "codemirror_mode": {
    "name": "ipython",
    "version": 3
   },
   "file_extension": ".py",
   "mimetype": "text/x-python",
   "name": "python",
   "nbconvert_exporter": "python",
   "pygments_lexer": "ipython3",
   "version": "3.9.7"
  }
 },
 "nbformat": 4,
 "nbformat_minor": 5
}
